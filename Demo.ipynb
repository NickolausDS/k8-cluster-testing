{
 "cells": [
  {
   "cell_type": "code",
   "execution_count": null,
   "metadata": {},
   "outputs": [],
   "source": [
    "import globus_sdk\n",
    "import pickle, base64, os\n",
    "data = pickle.loads(base64.b64decode(os.getenv('GLOBUS_DATA')))\n",
    "transfer_authorizer = globus_sdk.AccessTokenAuthorizer(data['tokens']['transfer.api.globus.org']['access_token'])\n",
    "tc = globus_sdk.TransferClient(authorizer=transfer_authorizer)\n",
    "my_recent_endpoints = [ep['canonical_name'] for ep in tc.endpoint_search(filter_scope='recently-used')]\n"
   ]
  },
  {
   "cell_type": "code",
   "execution_count": null,
   "metadata": {},
   "outputs": [],
   "source": [
    "print(my_recent_endpoints)"
   ]
  },
  {
   "cell_type": "code",
   "execution_count": null,
   "metadata": {},
   "outputs": [],
   "source": []
  }
 ],
 "metadata": {
  "kernelspec": {
   "display_name": "Python 3",
   "language": "python",
   "name": "python3"
  },
  "language_info": {
   "codemirror_mode": {
    "name": "ipython",
    "version": 3
   },
   "file_extension": ".py",
   "mimetype": "text/x-python",
   "name": "python",
   "nbconvert_exporter": "python",
   "pygments_lexer": "ipython3",
   "version": "3.6.3"
  }
 },
 "nbformat": 4,
 "nbformat_minor": 2
}
